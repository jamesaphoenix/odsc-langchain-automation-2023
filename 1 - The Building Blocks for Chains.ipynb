{
  "cells": [
    {
      "cell_type": "code",
      "execution_count": 1,
      "metadata": {
        "id": "CGGKd9Wu0sDi"
      },
      "outputs": [],
      "source": [
        "# Set your API key here:\n",
        "\n",
        "# import os\n",
        "# os.environ['OPENAI_API_KEY'] = ''"
      ]
    },
    {
      "cell_type": "markdown",
      "metadata": {},
      "source": [
        "## LLMChain"
      ]
    },
    {
      "cell_type": "code",
      "execution_count": 2,
      "metadata": {
        "colab": {
          "base_uri": "https://localhost:8080/"
        },
        "id": "0WIqSF6s0m0m",
        "outputId": "0d058bca-397e-474f-d904-b282d2c61d68"
      },
      "outputs": [
        {
          "data": {
            "text/plain": [
              "{'language': 'Php',\n",
              " 'text': \"Why did the PHP developer go broke?\\n\\nBecause he couldn't stop echoing his money!\"}"
            ]
          },
          "execution_count": 2,
          "metadata": {},
          "output_type": "execute_result"
        }
      ],
      "source": [
        "from langchain.prompts.chat import ChatPromptTemplate\n",
        "from langchain.chat_models import ChatOpenAI\n",
        "from langchain.chains import LLMChain\n",
        "\n",
        "prompt_template = \"Write a programming joke, make the joke about the following language: {language}?\"\n",
        "\n",
        "llm = ChatOpenAI()\n",
        "llm_chain = LLMChain(\n",
        "    llm=llm,\n",
        "    prompt= ChatPromptTemplate.from_template(prompt_template)\n",
        ")\n",
        "llm_chain(\"Php\")"
      ]
    },
    {
      "cell_type": "markdown",
      "metadata": {},
      "source": [
        "## LCEL"
      ]
    },
    {
      "cell_type": "code",
      "execution_count": 3,
      "metadata": {},
      "outputs": [
        {
          "data": {
            "text/plain": [
              "AIMessage(content='Why did the JavaScript developer go broke?\\n\\nBecause he lost all his prototypes!')"
            ]
          },
          "execution_count": 3,
          "metadata": {},
          "output_type": "execute_result"
        }
      ],
      "source": [
        "chain = ChatPromptTemplate.from_template(prompt_template) | ChatOpenAI(temperature=0)\n",
        "chain.invoke({\n",
        "    \"language\": \"JavaScript\"\n",
        "})"
      ]
    },
    {
      "cell_type": "markdown",
      "metadata": {
        "id": "cIdBYeF81Gxi"
      },
      "source": [
        "------"
      ]
    },
    {
      "cell_type": "markdown",
      "metadata": {},
      "source": [
        "## Sequential Chains for LLMChain"
      ]
    },
    {
      "cell_type": "markdown",
      "metadata": {},
      "source": [
        "### LLMChain"
      ]
    },
    {
      "cell_type": "code",
      "execution_count": 4,
      "metadata": {},
      "outputs": [],
      "source": [
        "from langchain.prompts import PromptTemplate\n",
        "from langchain.chains import SequentialChain\n",
        "from langchain.memory import SimpleMemory"
      ]
    },
    {
      "cell_type": "code",
      "execution_count": 5,
      "metadata": {},
      "outputs": [],
      "source": [
        "# This is an LLMChain to write a synopsis given a title of a play and the era it is set in.\n",
        "synopsis_template = \"\"\"You are a playwright. Given the title of play and the era it is set in, it is your job to write a synopsis for that title.\n",
        "Title: {title}\n",
        "Era: {era}\n",
        "Playwright: This is a synopsis for the above play:\"\"\"\n",
        "synopsis_prompt_template = PromptTemplate(input_variables=[\"title\", \"era\"], template=synopsis_template)\n",
        "synopsis_chain = LLMChain(llm=llm, prompt=synopsis_prompt_template, output_key=\"synopsis\")"
      ]
    },
    {
      "cell_type": "code",
      "execution_count": 6,
      "metadata": {},
      "outputs": [],
      "source": [
        "# This is an LLMChain to write a review of a play given a synopsis.\n",
        "review_template = \"\"\"You are a play critic from the New York Times. Given the synopsis of play, it is your job to write a review for that play.\n",
        "\n",
        "Play Synopsis:\n",
        "{synopsis}\n",
        "Review from a New York Times play critic of the above play:\"\"\"\n",
        "review_prompt_template = PromptTemplate(input_variables=[\"synopsis\"], template=review_template)\n",
        "review_chain = LLMChain(llm=llm, prompt=review_prompt_template, output_key=\"review\")"
      ]
    },
    {
      "cell_type": "code",
      "execution_count": 7,
      "metadata": {},
      "outputs": [
        {
          "name": "stdout",
          "output_type": "stream",
          "text": [
            "\n",
            "\n",
            "\u001b[1m> Entering new SequentialChain chain...\u001b[0m\n",
            "\n",
            "\u001b[1m> Finished chain.\u001b[0m\n"
          ]
        },
        {
          "data": {
            "text/plain": [
              "{'title': 'Tragedy at sunset on the beach',\n",
              " 'era': 'Victorian England',\n",
              " 'time': 'December 25th, 8pm PST',\n",
              " 'location': 'Theater in the Park',\n",
              " 'social_post_text': '🌅 Don\\'t miss the mesmerizing tale of forbidden love and heart-wrenching tragedy in \"Tragedy at Sunset on the Beach\"! 🎭✨ Step back in time to Victorian England and immerse yourself in a world of opulence, societal constraints, and the power of love. 💔❤️\\n\\nJoin us on December 25th at 8pm PST at the Theater in the Park as we transport you to a bygone era, where crashing waves and golden-hued skies set the stage for an unforgettable tragedy. 🌊🌅✨\\n\\nWitness the captivating performances of Amelia and William, two star-crossed lovers who find solace in their clandestine meetings on a secluded beach at sunset. Their love blossoms against the backdrop of societal judgment and rigid class divisions, but will they succumb to the suffocating grip of propriety or defy the odds? 🌹💔\\n\\nAccording to the New York Times, \"Tragedy at Sunset on the Beach\" is a mesmerizing and emotionally charged play that will leave you questioning the true power of love. The stunning visuals, powerful performances, and thought-provoking narrative make it a must-see production that will linger in your mind long after the final curtain falls. 🌟✨\\n\\nDon\\'t miss your chance to experience this poignant and thought-provoking play that explores the timeless struggles of individuals caught in the web of societal expectations. Book your tickets now and join us for an evening of passion, sacrifice, and the devastating consequences of defying societal norms. 🎟️❤️\\n\\n#TragedyatSunsetontheBeach #ForbiddenLove #VictorianEra #LoveConquersAll #TheaterExperience #MustSeeProduction'}"
            ]
          },
          "execution_count": 7,
          "metadata": {},
          "output_type": "execute_result"
        }
      ],
      "source": [
        "llm = ChatOpenAI(temperature=.7)\n",
        "social_template = \"\"\"You are a social media manager for a theater company.  Given the title of play, the era it is set in, the date,time and location, \n",
        "the synopsis of the play, and the review of the play, it is your job to write a social media post for that play.\n",
        "\n",
        "Here is some context about the time and location of the play:\n",
        "Date and Time: {time}\n",
        "Location: {location}\n",
        "\n",
        "Play Synopsis:\n",
        "{synopsis}\n",
        "Review from a New York Times play critic of the above play:\n",
        "{review}\n",
        "\n",
        "Social Media Post:\n",
        "\"\"\"\n",
        "social_prompt_template = PromptTemplate(input_variables=[\"synopsis\", \"review\", \"time\", \"location\"], template=social_template)\n",
        "social_chain = LLMChain(llm=llm, prompt=social_prompt_template, output_key=\"social_post_text\")\n",
        "\n",
        "overall_chain = SequentialChain(\n",
        "    memory=SimpleMemory(memories={\"time\": \"December 25th, 8pm PST\", \"location\": \"Theater in the Park\"}),\n",
        "    chains=[synopsis_chain, review_chain, social_chain],\n",
        "    input_variables=[\"era\", \"title\"],\n",
        "    # Here we return multiple variables\n",
        "    output_variables=[\"social_post_text\"],\n",
        "    verbose=True)\n",
        "\n",
        "overall_chain({\"title\":\"Tragedy at sunset on the beach\", \"era\": \"Victorian England\"})"
      ]
    },
    {
      "cell_type": "markdown",
      "metadata": {},
      "source": [
        "### LCEL"
      ]
    },
    {
      "cell_type": "code",
      "execution_count": 8,
      "metadata": {},
      "outputs": [],
      "source": [
        "from langchain.schema.runnable import RunnableParallel, RunnablePassthrough\n",
        "from langchain.schema.output_parser import StrOutputParser\n",
        "from operator import itemgetter"
      ]
    },
    {
      "cell_type": "code",
      "execution_count": 9,
      "metadata": {},
      "outputs": [],
      "source": [
        "snyopsis_chain = (\n",
        "    synopsis_prompt_template | ChatOpenAI() |  StrOutputParser() | { \"synopsis\": RunnablePassthrough(), \"title\": itemgetter(\"title\"), \"era\": itemgetter(\"era\") } \n",
        ")\n",
        "\n",
        "review_chain = ({\n",
        "        \"review\":  review_prompt_template | ChatOpenAI() | StrOutputParser() | RunnablePassthrough(),\n",
        "        \"synopsis\": itemgetter(\"synopsis\"),\n",
        "        \"title\": itemgetter(\"title\"),\n",
        "        \"era\": itemgetter(\"era\")\n",
        "})\n",
        "\n",
        "\n",
        "social_chain = (\n",
        "    RunnableParallel(\n",
        "        synopsis=itemgetter(\"synopsis\"),\n",
        "        review=itemgetter(\"review\"),\n",
        "        time=lambda x: \"December 25th, 8pm PST\",\n",
        "        location=lambda x: 'London'\n",
        "    ) | \n",
        "    social_prompt_template | ChatOpenAI() | StrOutputParser() | RunnablePassthrough()\n",
        ")\n",
        "\n",
        "sequential_chain = (\n",
        "    synopsis_chain | review_chain | { \"social_media_post\": social_chain, \n",
        "                                      \"synopsis\": itemgetter(\"synopsis\"), \n",
        "                                      \"review\": itemgetter(\"review\"),\n",
        "                                      \"title\": itemgetter(\"title\"),\n",
        "                                      \"era\": itemgetter(\"era\")}\n",
        "                    )"
      ]
    },
    {
      "cell_type": "code",
      "execution_count": 10,
      "metadata": {},
      "outputs": [],
      "source": [
        "lcel_chain = sequential_chain.invoke({\"title\": \"Tragedy at sunset on the beach\", \"era\": \"Victorian England\"})"
      ]
    },
    {
      "cell_type": "code",
      "execution_count": 13,
      "metadata": {},
      "outputs": [
        {
          "name": "stdout",
          "output_type": "stream",
          "text": [
            "dict_keys(['social_media_post', 'synopsis', 'review', 'title', 'era'])\n"
          ]
        }
      ],
      "source": [
        "print(lcel_chain.keys())"
      ]
    },
    {
      "cell_type": "code",
      "execution_count": 14,
      "metadata": {},
      "outputs": [
        {
          "name": "stdout",
          "output_type": "stream",
          "text": [
            "{'social_media_post': '🌅 Don\\'t miss \"Tragedy at Sunset on the Beach\" - a captivating Victorian-era masterpiece that will transport you to the opulent shores of a seaside town. 🌊✨\\n\\nJoin us on December 25th at 8pm PST in London for a night of love, betrayal, and self-discovery. 🎭 Witness Lady Arabella\\'s enthralling journey as she navigates societal expectations and her own desires, while a mysterious survivor, Edward, brings an unexpected twist to their lives. 🌹\\n\\nCritics are raving about this gripping tale that explores themes of sacrifice, the consequences of societal norms, and the true meaning of love. 📖 The New York Times praised the play\\'s lush Victorian setting, compelling characters, and masterful storytelling. 🌟\\n\\nGet ready for an evening of heart-wrenching emotions, evocative scenes, and a cast of unique characters whose motives will keep you on the edge of your seat. 🎟️🔥\\n\\nReflect on the boundaries imposed by society and the price of happiness in a world driven by appearances. 🌌 Book your tickets now and join us for a night you won\\'t soon forget! 💫 #TragedyAtSunset #VictorianDrama #LoveAndBetrayal', 'synopsis': 'In the midst of the picturesque Victorian era, \"Tragedy at Sunset on the Beach\" takes us to the tranquil shores of a seaside town. The play opens with a group of aristocrats indulging in their lavish summer retreat, seeking respite from the rigidity of their daily lives. \\n\\nAmidst the opulent villas and vibrant social gatherings, we meet Lady Arabella, a captivating and enigmatic woman, whose beauty and charm have ensnared the hearts of many. However, her seemingly idyllic existence masks a deep longing for true love, as she finds herself caught between societal expectations and her own desires.\\n\\nAs the sun sets on a fateful evening, an unexpected twist of fate befalls the town. A shipwreck occurs just off the coast, leaving a lone survivor, a mysterious stranger named Edward. Haunted by the tragedy that befell his crew, Edward seeks solace and redemption, but soon becomes entangled in a web of secrets and deceit.\\n\\nAs the play progresses, Lady Arabella and Edward\\'s paths intertwine, leading them on a tumultuous journey of love, betrayal, and self-discovery. Their connection defies the rigid social norms of Victorian England, forcing them to question their own identities and the society that binds them.\\n\\nMeanwhile, a cast of unique characters, each harboring their own hidden motives, adds depth and complexity to the unfolding tragedy. From Lady Arabella\\'s conniving suitor to her loyal confidante, and even the town\\'s enigmatic fortune teller, each plays a crucial role in the dramatic events that unfold on that ill-fated evening.\\n\\nThrough poignant dialogues and evocative scenes set against the backdrop of the beach at sunset, the play explores themes of love, sacrifice, and the consequences of societal expectations. As the final act unfolds, the tragic consequences of the characters\\' choices become apparent, leaving the audience contemplating the nature of fate and the price of happiness in a world driven by appearances.\\n\\n\"Tragedy at Sunset on the Beach\" is a gripping tale that delves into the depths of the human soul, questioning the boundaries imposed by society and the true meaning of love. With its lush Victorian setting and compelling characters, this play leaves audiences spellbound, reflecting on the timeless struggles faced by individuals in their pursuit of happiness.', 'review': 'In \"Tragedy at Sunset on the Beach,\" playwrights have masterfully transported audiences to the opulent and picturesque Victorian era. Set against the backdrop of a tranquil seaside town, this gripping tale unfolds with a cast of characters whose lives are intricately woven together, ultimately leading them on a journey of love, betrayal, and self-discovery.\\n\\nThe play opens with a group of aristocrats seeking refuge from the rigidity of their daily lives in a lavish summer retreat. Lady Arabella, portrayed with captivating charm by the talented cast, stands out as a central figure whose beauty and enigmatic nature have ensnared the hearts of many. However, beneath her seemingly idyllic existence lies a profound longing for true love, setting the stage for the emotional rollercoaster that lies ahead.\\n\\nThe arrival of Edward, the lone survivor of a tragic shipwreck, introduces an unexpected twist of fate that propels the narrative forward. Haunted by the tragedy that befell his crew, Edward\\'s journey towards solace and redemption becomes entangled with Lady Arabella\\'s own desire for freedom and authenticity. Their connection, defying the rigid social norms of Victorian England, becomes the catalyst for a series of events that forces them to confront their own identities and the society that binds them.\\n\\nThroughout the play, a cast of unique characters adds depth and complexity to the unfolding tragedy. Lady Arabella\\'s conniving suitor, her loyal confidante, and the town\\'s enigmatic fortune teller all play crucial roles in the web of secrets and deceit that unravels on that ill-fated evening. Each character, skillfully portrayed by the talented ensemble, contributes to the overall narrative, leaving audiences captivated by their motives and actions.\\n\\nThe dialogue in \"Tragedy at Sunset on the Beach\" is poignant and evocative, skillfully exploring themes of love, sacrifice, and the consequences of societal expectations. The play\\'s lush Victorian setting, coupled with the dramatic scenes set against the backdrop of the beach at sunset, creates a visually stunning experience that immerses the audience in the world of these complex characters.\\n\\nAs the final act unfolds, the tragic consequences of the characters\\' choices become apparent, leaving the audience contemplating the nature of fate and the price of happiness in a world driven by appearances. The play\\'s exploration of the human soul and its questioning of societal boundaries resonates long after the curtains close.\\n\\n\"Tragedy at Sunset on the Beach\" is a gripping and thought-provoking play that showcases the timeless struggles faced by individuals in their pursuit of happiness. With its lush Victorian setting, compelling characters, and masterful storytelling, this production leaves audiences spellbound and reflecting on the complexities of love, sacrifice, and the true meaning of happiness.', 'title': 'Tragedy at sunset on the beach', 'era': 'Victorian England'}\n"
          ]
        }
      ],
      "source": [
        "print(lcel_chain)"
      ]
    }
  ],
  "metadata": {
    "colab": {
      "provenance": []
    },
    "kernelspec": {
      "display_name": "Python 3",
      "name": "python3"
    },
    "language_info": {
      "codemirror_mode": {
        "name": "ipython",
        "version": 3
      },
      "file_extension": ".py",
      "mimetype": "text/x-python",
      "name": "python",
      "nbconvert_exporter": "python",
      "pygments_lexer": "ipython3",
      "version": "3.9.13"
    }
  },
  "nbformat": 4,
  "nbformat_minor": 0
}
