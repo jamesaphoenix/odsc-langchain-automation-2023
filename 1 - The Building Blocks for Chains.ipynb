{
  "cells": [
    {
      "cell_type": "code",
      "execution_count": 129,
      "metadata": {
        "id": "CGGKd9Wu0sDi"
      },
      "outputs": [],
      "source": [
        "# Set your API key here:\n",
        "\n",
        "# import os\n",
        "# os.environ['OPENAI_API_KEY'] = ''"
      ]
    },
    {
      "cell_type": "markdown",
      "metadata": {},
      "source": [
        "## LLMChain"
      ]
    },
    {
      "cell_type": "code",
      "execution_count": 130,
      "metadata": {
        "colab": {
          "base_uri": "https://localhost:8080/"
        },
        "id": "0WIqSF6s0m0m",
        "outputId": "0d058bca-397e-474f-d904-b282d2c61d68"
      },
      "outputs": [
        {
          "data": {
            "text/plain": [
              "{'language': 'Php',\n",
              " 'text': \"Why did the PHP developer go broke?\\n\\nBecause he couldn't find his $cents!\"}"
            ]
          },
          "execution_count": 130,
          "metadata": {},
          "output_type": "execute_result"
        }
      ],
      "source": [
        "from langchain.prompts.chat import ChatPromptTemplate\n",
        "from langchain.chat_models import ChatOpenAI\n",
        "from langchain.chains import LLMChain\n",
        "\n",
        "prompt_template = \"Write a programming joke, make the joke about the following language: {language}?\"\n",
        "\n",
        "llm = ChatOpenAI()\n",
        "llm_chain = LLMChain(\n",
        "    llm=llm,\n",
        "    prompt= ChatPromptTemplate.from_template(prompt_template)\n",
        ")\n",
        "llm_chain(\"Php\")"
      ]
    },
    {
      "cell_type": "markdown",
      "metadata": {},
      "source": [
        "## LCEL"
      ]
    },
    {
      "cell_type": "code",
      "execution_count": 131,
      "metadata": {},
      "outputs": [
        {
          "data": {
            "text/plain": [
              "AIMessage(content='Why did the JavaScript developer go broke?\\n\\nBecause he lost all his prototypes!')"
            ]
          },
          "execution_count": 131,
          "metadata": {},
          "output_type": "execute_result"
        }
      ],
      "source": [
        "chain = ChatPromptTemplate.from_template(prompt_template) | ChatOpenAI(temperature=0)\n",
        "chain.invoke({\n",
        "    \"language\": \"JavaScript\"\n",
        "})"
      ]
    },
    {
      "cell_type": "markdown",
      "metadata": {
        "id": "cIdBYeF81Gxi"
      },
      "source": [
        "------"
      ]
    },
    {
      "cell_type": "markdown",
      "metadata": {},
      "source": [
        "## Standard Ways of Only LLM Based Chains"
      ]
    },
    {
      "cell_type": "markdown",
      "metadata": {},
      "source": [
        "### LLMChain"
      ]
    },
    {
      "cell_type": "code",
      "execution_count": 132,
      "metadata": {},
      "outputs": [],
      "source": [
        "from langchain.prompts import PromptTemplate\n",
        "from langchain.chains import SequentialChain\n",
        "from langchain.memory import SimpleMemory"
      ]
    },
    {
      "cell_type": "code",
      "execution_count": 133,
      "metadata": {},
      "outputs": [],
      "source": [
        "# This is an LLMChain to write a synopsis given a title of a play and the era it is set in.\n",
        "synopsis_template = \"\"\"You are a playwright. Given the title of play and the era it is set in, it is your job to write a synopsis for that title.\n",
        "Title: {title}\n",
        "Era: {era}\n",
        "Playwright: This is a synopsis for the above play:\"\"\"\n",
        "synopsis_prompt_template = PromptTemplate(input_variables=[\"title\", \"era\"], template=synopsis_template)\n",
        "synopsis_chain = LLMChain(llm=llm, prompt=synopsis_prompt_template, output_key=\"synopsis\")"
      ]
    },
    {
      "cell_type": "code",
      "execution_count": 134,
      "metadata": {},
      "outputs": [],
      "source": [
        "# This is an LLMChain to write a review of a play given a synopsis.\n",
        "review_template = \"\"\"You are a play critic from the New York Times. Given the synopsis of play, it is your job to write a review for that play.\n",
        "\n",
        "Play Synopsis:\n",
        "{synopsis}\n",
        "Review from a New York Times play critic of the above play:\"\"\"\n",
        "review_prompt_template = PromptTemplate(input_variables=[\"synopsis\"], template=review_template)\n",
        "review_chain = LLMChain(llm=llm, prompt=review_prompt_template, output_key=\"review\")"
      ]
    },
    {
      "cell_type": "code",
      "execution_count": 135,
      "metadata": {},
      "outputs": [
        {
          "name": "stdout",
          "output_type": "stream",
          "text": [
            "\n",
            "\n",
            "\u001b[1m> Entering new SequentialChain chain...\u001b[0m\n",
            "\n",
            "\u001b[1m> Finished chain.\u001b[0m\n"
          ]
        },
        {
          "data": {
            "text/plain": [
              "{'title': 'Tragedy at sunset on the beach',\n",
              " 'era': 'Victorian England',\n",
              " 'time': 'December 25th, 8pm PST',\n",
              " 'location': 'Theater in the Park',\n",
              " 'social_post_text': '🌅✨ Don\\'t miss the breathtaking tragedy that is \"Tragedy at Sunset on the Beach\"! Transport yourself to Victorian England, where forbidden love and heart-wrenching sacrifices take center stage. 🎭💔\\n\\n📅 Date: December 25th\\n⏰ Time: 8pm PST\\n📍 Location: Theater in the Park\\n\\nSynopsis: In a dreary coastal town, Amelia and Edward find solace in each other\\'s arms, defying societal norms and risking everything for love. But their secret rendezvous on the desolate beach at sunset leads to a tragic duel that will leave you breathless. Prepare for a journey of love, loyalty, and sacrifice.\\n\\nReview: The New York Times praises the exceptional performances, evocative stage design, and captivating storytelling. This play will immerse you in the intricate world of Victorian England and leave you reflecting on the timeless struggle between societal expectations and personal happiness.\\n\\n💔💔💔 Book your tickets now for a night of heartbreak and emotional depth. \"Tragedy at Sunset on the Beach\" will stir your soul and remind you of the power of true love. Don\\'t miss out on this unforgettable theatrical experience! 💔💔💔'}"
            ]
          },
          "execution_count": 135,
          "metadata": {},
          "output_type": "execute_result"
        }
      ],
      "source": [
        "llm = ChatOpenAI(temperature=.7)\n",
        "social_template = \"\"\"You are a social media manager for a theater company.  Given the title of play, the era it is set in, the date,time and location, \n",
        "the synopsis of the play, and the review of the play, it is your job to write a social media post for that play.\n",
        "\n",
        "Here is some context about the time and location of the play:\n",
        "Date and Time: {time}\n",
        "Location: {location}\n",
        "\n",
        "Play Synopsis:\n",
        "{synopsis}\n",
        "Review from a New York Times play critic of the above play:\n",
        "{review}\n",
        "\n",
        "Social Media Post:\n",
        "\"\"\"\n",
        "social_prompt_template = PromptTemplate(input_variables=[\"synopsis\", \"review\", \"time\", \"location\"], template=social_template)\n",
        "social_chain = LLMChain(llm=llm, prompt=social_prompt_template, output_key=\"social_post_text\")\n",
        "\n",
        "overall_chain = SequentialChain(\n",
        "    memory=SimpleMemory(memories={\"time\": \"December 25th, 8pm PST\", \"location\": \"Theater in the Park\"}),\n",
        "    chains=[synopsis_chain, review_chain, social_chain],\n",
        "    input_variables=[\"era\", \"title\"],\n",
        "    # Here we return multiple variables\n",
        "    output_variables=[\"social_post_text\"],\n",
        "    verbose=True)\n",
        "\n",
        "overall_chain({\"title\":\"Tragedy at sunset on the beach\", \"era\": \"Victorian England\"})"
      ]
    },
    {
      "cell_type": "markdown",
      "metadata": {},
      "source": [
        "### LCEL"
      ]
    },
    {
      "cell_type": "code",
      "execution_count": 70,
      "metadata": {},
      "outputs": [],
      "source": [
        "from langchain.schema.runnable import RunnableParallel, RunnablePassthrough\n",
        "from langchain.schema.output_parser import StrOutputParser\n",
        "from operator import itemgetter"
      ]
    },
    {
      "cell_type": "code",
      "execution_count": 149,
      "metadata": {},
      "outputs": [],
      "source": [
        "snyopsis_chain = (\n",
        "    synopsis_prompt_template | ChatOpenAI() |  StrOutputParser() | { \"synopsis\": RunnablePassthrough(), \"title\": itemgetter(\"title\"), \"era\": itemgetter(\"era\") } \n",
        ")\n",
        "\n",
        "review_chain = ({\n",
        "        \"review\":  review_prompt_template | ChatOpenAI() | StrOutputParser() | RunnablePassthrough(),\n",
        "        \"synopsis\": itemgetter(\"synopsis\"),\n",
        "        \"title\": itemgetter(\"title\"),\n",
        "        \"era\": itemgetter(\"era\")\n",
        "})\n",
        "\n",
        "\n",
        "social_chain = (\n",
        "    RunnableParallel(\n",
        "        synopsis=itemgetter(\"synopsis\"),\n",
        "        review=itemgetter(\"review\"),\n",
        "        time=lambda x: \"December 25th, 8pm PST\",\n",
        "        location=lambda x: 'London'\n",
        "    ) | \n",
        "    social_prompt_template | ChatOpenAI() | StrOutputParser() | RunnablePassthrough()\n",
        ")\n",
        "\n",
        "sequential_chain = (\n",
        "    synopsis_chain | review_chain | { \"social_media_post\": social_chain, \n",
        "                                      \"synopsis\": itemgetter(\"synopsis\"), \n",
        "                                      \"review\": itemgetter(\"review\"),\n",
        "                                      \"title\": itemgetter(\"title\"),\n",
        "                                      \"era\": itemgetter(\"era\")}\n",
        "                                      )"
      ]
    },
    {
      "cell_type": "code",
      "execution_count": 150,
      "metadata": {},
      "outputs": [],
      "source": [
        "lcel_chain = sequential_chain.invoke({\"title\": \"Tragedy at sunset on the beach\", \"era\": \"Victorian England\"})"
      ]
    },
    {
      "cell_type": "code",
      "execution_count": 151,
      "metadata": {},
      "outputs": [
        {
          "name": "stdout",
          "output_type": "stream",
          "text": [
            "dict_keys(['social_media_post', 'synopsis', 'review', 'title', 'era'])\n"
          ]
        }
      ],
      "source": [
        "print(lcel_chain.keys())"
      ]
    },
    {
      "cell_type": "code",
      "execution_count": 152,
      "metadata": {},
      "outputs": [
        {
          "name": "stdout",
          "output_type": "stream",
          "text": [
            "{'social_media_post': '🌅 Introducing \"Tragedy at Sunset on the Beach\" 🌅\\n\\nStep back in time to Victorian England and witness a tale of forbidden love, betrayal, and the devastating consequences of societal constraints. 🎭✨\\n\\n🗓️ Date & Time: December 25th, 8pm PST\\n📍 Location: London\\n\\nJoin Cecilia and Robert as their paths intertwine on a secluded beach, and a connection, both immediate and undeniable, forms between them. 💔\\n\\nTheir secret affair blossoms under the veil of darkness, but their happiness is short-lived when Cecilia\\'s domineering family discovers their forbidden romance. As societal pressures mount and emotions reach their boiling point, the stage is set for a heart-wrenching climax. 😢\\n\\nCritics rave about \"Tragedy at Sunset on the Beach,\" calling it a mesmerizing theatrical experience that captures the essence of love and societal constraints in Victorian England. 🌹\\n\\nImmerse yourself in the opulent world of the upper class and witness the collision of love and duty. Will Cecilia and Robert\\'s love triumph over societal expectations? Or will they succumb to the demands of a society that values conformity above all else? 🌊\\n\\nDirected by the talented [Director\\'s Name], this play promises to be a thought-provoking exploration of love, sacrifice, and the human spirit\\'s ability to defy convention. Don\\'t miss out on this unforgettable production! 💫\\n\\nTag someone who loves a gripping storyline and evocative characters. Get your tickets now and prepare to be swept away by the tragedy of forbidden love. 💔✨ #TragedyAtSunset #VictorianDrama #ForbiddenLove', 'synopsis': 'In the midst of Victorian England, where societal norms and expectations entangle the lives of the upper class, \"Tragedy at Sunset on the Beach\" unravels a tale of forbidden love, betrayal, and the devastating consequences of societal constraints.\\n\\nThe story revolves around Cecilia, a young woman of noble birth, and Robert, a passionate and mysterious artist from a lower social class. Their paths cross one fateful evening as the sun sets over a secluded beach, and a connection, both immediate and undeniable, forms between them. Despite the undeniable risks, Cecilia and Robert embark on a secret affair, their love flourishing under the veil of darkness.\\n\\nHowever, their happiness is short-lived, as Cecilia\\'s domineering and ambitious family discovers their forbidden romance. Driven by their desire to maintain their reputation and social standing, Cecilia\\'s parents forcefully separate the young lovers, ensuring that their relationship remains a clandestine memory.\\n\\nHaunted by heartbreak and consumed by despair, Cecilia finds solace in her cousin, Edward, a respectable and wealthy suitor chosen by her parents. Edward\\'s genuine affection for Cecilia offers her a glimmer of hope for a future devoid of pain, but she remains haunted by her love for Robert.\\n\\nAs societal pressures mount, secrets unravel, and emotions reach a boiling point, the stage is set for a tragic climax. The convergence of fate, betrayal, and the collision of love and duty culminate in a heart-wrenching ending, leaving audiences breathless.\\n\\n\"Tragedy at Sunset on the Beach\" explores the timeless themes of love, sacrifice, and the consequences of societal expectations. With its vivid portrayal of Victorian England\\'s rigid class structure, the play delves into the human spirit\\'s ability to defy convention and the devastating toll it can take. Through its gripping storyline and evocative characters, this tragedy serves as a poignant reminder of the price one pays for seeking love and fulfillment outside the boundaries of society.', 'review': '\"Tragedy at Sunset on the Beach\" is a mesmerizing theatrical experience that transports its audience to the heart of Victorian England, where love and societal constraints collide. With its poignant exploration of forbidden love, betrayal, and the dire consequences of defying social norms, this play delivers a powerful and emotionally-charged performance.\\n\\nThe production\\'s strength lies in its ability to capture the essence of a time and place where societal expectations suffocated individual desires. The intricate set design and period costumes transport the audience to the opulent world of the upper class, while simultaneously highlighting the stark contrast between the privileged and the marginalized.\\n\\nThe chemistry between the two leads, Cecilia and Robert, is palpable from the moment they share the stage. Their connection is imbued with a sense of urgency and longing, masterfully conveyed by the talented actors. Audiences cannot help but be swept away by their forbidden romance, rooting for their love to triumph over the suffocating grip of societal expectations.\\n\\nThe supporting cast also shines, particularly in their portrayal of Cecilia\\'s domineering family. Their relentless pursuit of maintaining appearances and preserving their reputation is both infuriating and heartbreaking. The audience is left to grapple with the devastating choices faced by the characters, torn between following their hearts or succumbing to the demands of a society that values conformity above all else.\\n\\nThe play\\'s tragic climax is both devastating and cathartic. As secrets unravel and emotions reach their boiling point, the audience is left breathless and deeply moved. The collision of love and duty unfolds with an intensity that lingers long after the final curtain falls.\\n\\n\"Tragedy at Sunset on the Beach\" is a beautifully crafted production that delves into the complexities of human desires and the far-reaching consequences of societal expectations. It serves as a poignant reminder of the sacrifices individuals are willing to make in the pursuit of love and fulfillment.\\n\\nUnder the direction of [Director\\'s Name], the play seamlessly weaves together a gripping storyline, evocative characters, and stunning visuals to create an immersive and unforgettable theatrical experience. \"Tragedy at Sunset on the Beach\" is a must-see for anyone seeking a thought-provoking exploration of love, sacrifice, and the human spirit\\'s ability to defy convention.', 'title': 'Tragedy at sunset on the beach', 'era': 'Victorian England'}\n"
          ]
        }
      ],
      "source": [
        "print(lcel_chain)"
      ]
    }
  ],
  "metadata": {
    "colab": {
      "provenance": []
    },
    "kernelspec": {
      "display_name": "Python 3",
      "name": "python3"
    },
    "language_info": {
      "codemirror_mode": {
        "name": "ipython",
        "version": 3
      },
      "file_extension": ".py",
      "mimetype": "text/x-python",
      "name": "python",
      "nbconvert_exporter": "python",
      "pygments_lexer": "ipython3",
      "version": "3.9.13"
    }
  },
  "nbformat": 4,
  "nbformat_minor": 0
}
